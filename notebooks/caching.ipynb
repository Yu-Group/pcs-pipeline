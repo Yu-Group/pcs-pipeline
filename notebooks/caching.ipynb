{
 "cells": [
  {
   "cell_type": "code",
   "execution_count": 1,
   "id": "reduced-headset",
   "metadata": {},
   "outputs": [],
   "source": [
    "'''Modified from joblib documentation: https://joblib.readthedocs.io/en/latest/auto_examples/memory_basic_usage.html\n",
    "'''\n",
    "%load_ext autoreload\n",
    "%autoreload 2\n",
    "import time\n",
    "\n",
    "import numpy as np\n",
    "import matplotlib.pyplot as plt\n",
    "import pandas as pd\n",
    "\n",
    "from sklearn.datasets import make_classification\n",
    "from sklearn.model_selection import train_test_split\n",
    "from functools import partial\n",
    "\n",
    "from pcsp import PCSPipeline, ModuleSet, Module # must install pcsp first (pip install pcsp)"
   ]
  },
  {
   "cell_type": "code",
   "execution_count": 2,
   "id": "tropical-pursuit",
   "metadata": {},
   "outputs": [],
   "source": [
    "pipeline_uncached = PCSPipeline()\n",
    "pipeline_cached = PCSPipeline(cache_dir=\"./\")"
   ]
  },
  {
   "cell_type": "code",
   "execution_count": 3,
   "id": "stainless-gamma",
   "metadata": {},
   "outputs": [],
   "source": [
    "np.random.seed(13)\n",
    "X, y = make_classification(n_samples=50, n_features=5)\n",
    "X_train, X_test, y_train, y_test = train_test_split(X, y, random_state=42)\n",
    "\n",
    "def costly_compute(data, row_index=0):\n",
    "    \"\"\"Simulate an expensive computation\"\"\"\n",
    "    time.sleep(5)\n",
    "    return data[row_index, ]\n",
    "\n",
    "subsampling_funcs = [partial(costly_compute, row_index=np.arange(25))]\n",
    "subsampling_set1 = ModuleSet(name='subsampling1', modules=subsampling_funcs)\n",
    "subsampling_set2 = ModuleSet(name='subsampling2', modules=subsampling_funcs)\n",
    "\n",
    "pipeline_uncached.steps = [subsampling_set1]\n",
    "pipeline_cached.steps = [subsampling_set2]"
   ]
  },
  {
   "cell_type": "code",
   "execution_count": 4,
   "id": "advanced-influence",
   "metadata": {},
   "outputs": [
    {
     "name": "stdout",
     "output_type": "stream",
     "text": [
      "subsampling1\n",
      "CPU times: user 2.2 ms, sys: 358 µs, total: 2.56 ms\n",
      "Wall time: 5 s\n"
     ]
    }
   ],
   "source": [
    "%%time\n",
    "\n",
    "# this always takes about 5 seconds\n",
    "pipeline_uncached.run([X_train])"
   ]
  },
  {
   "cell_type": "code",
   "execution_count": 5,
   "id": "exclusive-understanding",
   "metadata": {},
   "outputs": [
    {
     "name": "stdout",
     "output_type": "stream",
     "text": [
      "subsampling2\n",
      "CPU times: user 5.49 ms, sys: 243 µs, total: 5.74 ms\n",
      "Wall time: 4.99 ms\n"
     ]
    }
   ],
   "source": [
    "%%time\n",
    "\n",
    "# the first time this runs it takes 5 seconds, but the next time you run the notebook it's very fast\n",
    "pipeline_cached.run([X_train])"
   ]
  },
  {
   "cell_type": "code",
   "execution_count": null,
   "id": "major-touch",
   "metadata": {},
   "outputs": [],
   "source": []
  }
 ],
 "metadata": {
  "kernelspec": {
   "display_name": "Python 3",
   "language": "python",
   "name": "python3"
  },
  "language_info": {
   "codemirror_mode": {
    "name": "ipython",
    "version": 3
   },
   "file_extension": ".py",
   "mimetype": "text/x-python",
   "name": "python",
   "nbconvert_exporter": "python",
   "pygments_lexer": "ipython3",
   "version": "3.8.5"
  }
 },
 "nbformat": 4,
 "nbformat_minor": 5
}
