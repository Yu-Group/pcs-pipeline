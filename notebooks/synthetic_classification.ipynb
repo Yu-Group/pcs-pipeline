{
 "cells": [
  {
   "cell_type": "code",
   "execution_count": 7,
   "metadata": {
    "scrolled": true
   },
   "outputs": [
    {
     "name": "stdout",
     "output_type": "stream",
     "text": [
      "The autoreload extension is already loaded. To reload it, use:\n",
      "  %reload_ext autoreload\n"
     ]
    }
   ],
   "source": [
    "'''Modified from sklearn documentation: https://scikit-learn.org/stable/modules/compose.html\n",
    "'''\n",
    "%load_ext autoreload\n",
    "%autoreload 2\n",
    "import numpy as np\n",
    "import matplotlib.pyplot as plt\n",
    "import pandas as pd\n",
    "\n",
    "from sklearn import datasets\n",
    "from sklearn.linear_model import LogisticRegression\n",
    "from sklearn.pipeline import Pipeline\n",
    "from sklearn.tree import DecisionTreeClassifier\n",
    "from sklearn.datasets import make_classification\n",
    "from pcsp import PCSPipeline, ModuleSet, Module # must install pcsp first (pip install pcsp)\n",
    "from pcsp.pipeline import build_graph\n",
    "from sklearn.metrics import accuracy_score, balanced_accuracy_score, roc_auc_score\n",
    "from sklearn.model_selection import train_test_split\n",
    "from sklearn.utils import resample\n",
    "import sklearn\n",
    "from functools import partial\n",
    "import itertools\n",
    "import networkx as nx\n",
    "np.set_printoptions(threshold=5) # to limit printing"
   ]
  },
  {
   "cell_type": "markdown",
   "metadata": {},
   "source": [
    "# basic pipeline"
   ]
  },
  {
   "cell_type": "code",
   "execution_count": 4,
   "metadata": {
    "scrolled": true
   },
   "outputs": [
    {
     "name": "stdout",
     "output_type": "stream",
     "text": [
      "ModuleSet(hard_metrics)\n",
      "ModuleSet(subsampling)\n",
      "ModuleSet(modeling)\n",
      "ModuleSet(subsampling)\n"
     ]
    },
    {
     "name": "stderr",
     "output_type": "stream",
     "text": [
      "/accounts/projects/vision/chandan/pcs-pipeline/pcsp/pipeline.py:117: UserWarning: This figure includes Axes that are not compatible with tight_layout, so results might be incorrect.\n",
      "  plt.tight_layout()\n"
     ]
    },
    {
     "data": {
      "image/png": "[encoded data removed]",
      "text/plain": [
       "<Figure size 432x288 with 1 Axes>"
      ]
     },
     "metadata": {},
     "output_type": "display_data"
    }
   ],
   "source": [
    "# subsample data\n",
    "np.random.seed(13)\n",
    "X, y = make_classification(n_samples=50, n_features=5)\n",
    "X_train, X_test, y_train, y_test = train_test_split(X, y, random_state=42)\n",
    "subsampling_funcs = [partial(resample,\n",
    "                            n_samples=int(X_train.shape[0]*0.3),\n",
    "                            random_state=i)\n",
    "                     for i in range(3)]\n",
    "subsampling_set = ModuleSet(name='subsampling',\n",
    "                            modules=subsampling_funcs)\n",
    "# todo: shouldn't have to pass list for first args\n",
    "X_all, y_all = subsampling_set([X_train], [y_train]) # subsampling_set([X_train, X_train], [y_train, y_train]) # artificially make it seem like there are multiple dsets (data_0 and data_1)\n",
    "\n",
    "# fit models\n",
    "modeling_set = ModuleSet(name='modeling',\n",
    "                         modules=[LogisticRegression(max_iter=1000, tol=0.1),\n",
    "                                  DecisionTreeClassifier()],\n",
    "                         module_keys=[\"LR\", \"DT\"])\n",
    "models = modeling_set.fit(X_all, y_all)  # ModuleSet needs to store something for this call to work (makes models kind of useless)\n",
    "\n",
    "# get predictions\n",
    "X_all[\"test\"] = X_test\n",
    "y_all[\"test\"] = y_test\n",
    "preds_all = modeling_set.predict(X_all)\n",
    "\n",
    "# get metrics\n",
    "hard_metrics_set = ModuleSet(name='hard_metrics',\n",
    "                             modules=[accuracy_score, balanced_accuracy_score],\n",
    "                             module_keys=[\"Acc\", \"Bal_Acc\"])\n",
    "hard_metrics = hard_metrics_set.evaluate(y_all, preds_all)\n",
    "\n",
    "\n",
    "# inspect the pipeline\n",
    "# for k in hard_metrics:\n",
    "#     print(k, hard_metrics[k])\n",
    "G = build_graph(hard_metrics, draw=True)\n",
    "plt.show()"
   ]
  },
  {
   "cell_type": "markdown",
   "metadata": {},
   "source": [
    "# feature engineering pipeline\n",
    "**this data set predicts boston house-preices dataset (regression)**"
   ]
  },
  {
   "cell_type": "code",
   "execution_count": 37,
   "metadata": {},
   "outputs": [
    {
     "name": "stdout",
     "output_type": "stream",
     "text": [
      "['CRIM', 'ZN', 'INDUS', 'CHAS'] Index(['CRIM', 'ZN', 'INDUS', 'CHAS', 'NOX', 'RM', 'AGE', 'DIS', 'RAD', 'TAX',\n",
      "       'PTRATIO', 'B', 'LSTAT'],\n",
      "      dtype='object')\n",
      "['CRIM', 'ZN', 'INDUS', 'CHAS', 'NOX', 'RM', 'AGE'] Index(['CRIM', 'ZN', 'INDUS', 'CHAS', 'NOX', 'RM', 'AGE', 'DIS', 'RAD', 'TAX',\n",
      "       'PTRATIO', 'B', 'LSTAT'],\n",
      "      dtype='object')\n",
      "['CRIM', 'ZN', 'INDUS', 'CHAS'] Index(['CRIM', 'ZN', 'INDUS', 'CHAS', 'NOX', 'RM', 'AGE', 'DIS', 'RAD', 'TAX',\n",
      "       'PTRATIO', 'B', 'LSTAT'],\n",
      "      dtype='object')\n",
      "['CRIM', 'ZN', 'INDUS', 'CHAS', 'NOX', 'RM', 'AGE'] Index(['CRIM', 'ZN', 'INDUS', 'CHAS', 'NOX', 'RM', 'AGE', 'DIS', 'RAD', 'TAX',\n",
      "       'PTRATIO', 'B', 'LSTAT'],\n",
      "      dtype='object')\n"
     ]
    }
   ],
   "source": [
    "# get data as df\n",
    "np.random.seed(13)\n",
    "data = sklearn.datasets.load_boston()\n",
    "df = pd.DataFrame.from_dict(data['data'])\n",
    "df.columns = data['feature_names']\n",
    "y = data['target']\n",
    "X_train, X_test, y_train, y_test = train_test_split(df, y, random_state=42)\n",
    "\n",
    "\n",
    "def extract_feats(df: pd.DataFrame, feat_names=['CRIM', 'ZN', 'INDUS', 'CHAS']):\n",
    "    '''extract specific columns from dataframe\n",
    "    '''\n",
    "    print(feat_names, df.columns)\n",
    "    return df[feat_names]\n",
    "\n",
    "feat_extraction_funcs = [partial(extract_feats, feat_names=['CRIM', 'ZN', 'INDUS', 'CHAS']),\n",
    "                         partial(extract_feats, feat_names=['CRIM', 'ZN', 'INDUS', 'CHAS', 'NOX', 'RM', 'AGE']),\n",
    "                        ]\n",
    "feat_extraction = ModuleSet(name='feat_extraction',\n",
    "                            modules=feat_extraction_funcs)\n",
    "X_all = feat_extraction([X_train, X_test]) # still weird that this is a list"
   ]
  },
  {
   "cell_type": "markdown",
   "metadata": {},
   "source": [
    "# tracking things w Pipeline (deprecated)"
   ]
  },
  {
   "cell_type": "code",
   "execution_count": 4,
   "metadata": {},
   "outputs": [],
   "source": [
    "p = PCSPipeline()"
   ]
  },
  {
   "cell_type": "code",
   "execution_count": 5,
   "metadata": {},
   "outputs": [],
   "source": [
    "p.steps = [subsampling_set, modeling_set, hard_metrics_set] # how to deal w/ hard metrics?"
   ]
  },
  {
   "cell_type": "code",
   "execution_count": 6,
   "metadata": {},
   "outputs": [
    {
     "name": "stdout",
     "output_type": "stream",
     "text": [
      "subsampling\n",
      "modeling\n",
      "hard_metrics\n"
     ]
    }
   ],
   "source": [
    "p.run([X_train], [y_train])"
   ]
  },
  {
   "cell_type": "code",
   "execution_count": 7,
   "metadata": {},
   "outputs": [
    {
     "data": {
      "text/plain": [
       "{(('data_0', 'subsampling_0', 'LR'),\n",
       "  ('data_0', 'subsampling_0'),\n",
       "  'Acc'): 0.9090909090909091,\n",
       " (('data_0', 'subsampling_0', 'LR'),\n",
       "  ('data_0', 'subsampling_0'),\n",
       "  'Bal_Acc'): 0.8333333333333333,\n",
       " (('data_0', 'subsampling_0', 'DT'),\n",
       "  ('data_0', 'subsampling_0'),\n",
       "  'Acc'): 0.9090909090909091,\n",
       " (('data_0', 'subsampling_0', 'DT'),\n",
       "  ('data_0', 'subsampling_0'),\n",
       "  'Bal_Acc'): 0.8333333333333333,\n",
       " (('data_0', 'subsampling_1', 'LR'),\n",
       "  ('data_0', 'subsampling_0'),\n",
       "  'Acc'): 0.9090909090909091,\n",
       " (('data_0', 'subsampling_1', 'LR'),\n",
       "  ('data_0', 'subsampling_0'),\n",
       "  'Bal_Acc'): 0.8333333333333333,\n",
       " (('data_0', 'subsampling_1', 'DT'),\n",
       "  ('data_0', 'subsampling_0'),\n",
       "  'Acc'): 0.9090909090909091,\n",
       " (('data_0', 'subsampling_1', 'DT'),\n",
       "  ('data_0', 'subsampling_0'),\n",
       "  'Bal_Acc'): 0.8333333333333333,\n",
       " (('data_0', 'subsampling_2', 'LR'),\n",
       "  ('data_0', 'subsampling_0'),\n",
       "  'Acc'): 0.9090909090909091,\n",
       " (('data_0', 'subsampling_2', 'LR'),\n",
       "  ('data_0', 'subsampling_0'),\n",
       "  'Bal_Acc'): 0.8333333333333333,\n",
       " (('data_0', 'subsampling_2', 'DT'),\n",
       "  ('data_0', 'subsampling_0'),\n",
       "  'Acc'): 0.9090909090909091,\n",
       " (('data_0', 'subsampling_2', 'DT'),\n",
       "  ('data_0', 'subsampling_0'),\n",
       "  'Bal_Acc'): 0.8333333333333333,\n",
       " (('data_0', 'subsampling_0', 'LR'), ('data_0', 'subsampling_1'), 'Acc'): 1.0,\n",
       " (('data_0', 'subsampling_0', 'LR'),\n",
       "  ('data_0', 'subsampling_1'),\n",
       "  'Bal_Acc'): 1.0,\n",
       " (('data_0', 'subsampling_0', 'DT'), ('data_0', 'subsampling_1'), 'Acc'): 1.0,\n",
       " (('data_0', 'subsampling_0', 'DT'),\n",
       "  ('data_0', 'subsampling_1'),\n",
       "  'Bal_Acc'): 1.0,\n",
       " (('data_0', 'subsampling_1', 'LR'), ('data_0', 'subsampling_1'), 'Acc'): 1.0,\n",
       " (('data_0', 'subsampling_1', 'LR'),\n",
       "  ('data_0', 'subsampling_1'),\n",
       "  'Bal_Acc'): 1.0,\n",
       " (('data_0', 'subsampling_1', 'DT'), ('data_0', 'subsampling_1'), 'Acc'): 1.0,\n",
       " (('data_0', 'subsampling_1', 'DT'),\n",
       "  ('data_0', 'subsampling_1'),\n",
       "  'Bal_Acc'): 1.0,\n",
       " (('data_0', 'subsampling_2', 'LR'), ('data_0', 'subsampling_1'), 'Acc'): 1.0,\n",
       " (('data_0', 'subsampling_2', 'LR'),\n",
       "  ('data_0', 'subsampling_1'),\n",
       "  'Bal_Acc'): 1.0,\n",
       " (('data_0', 'subsampling_2', 'DT'), ('data_0', 'subsampling_1'), 'Acc'): 1.0,\n",
       " (('data_0', 'subsampling_2', 'DT'),\n",
       "  ('data_0', 'subsampling_1'),\n",
       "  'Bal_Acc'): 1.0,\n",
       " (('data_0', 'subsampling_0', 'LR'), ('data_0', 'subsampling_2'), 'Acc'): 1.0,\n",
       " (('data_0', 'subsampling_0', 'LR'),\n",
       "  ('data_0', 'subsampling_2'),\n",
       "  'Bal_Acc'): 1.0,\n",
       " (('data_0', 'subsampling_0', 'DT'), ('data_0', 'subsampling_2'), 'Acc'): 1.0,\n",
       " (('data_0', 'subsampling_0', 'DT'),\n",
       "  ('data_0', 'subsampling_2'),\n",
       "  'Bal_Acc'): 1.0,\n",
       " (('data_0', 'subsampling_1', 'LR'), ('data_0', 'subsampling_2'), 'Acc'): 1.0,\n",
       " (('data_0', 'subsampling_1', 'LR'),\n",
       "  ('data_0', 'subsampling_2'),\n",
       "  'Bal_Acc'): 1.0,\n",
       " (('data_0', 'subsampling_1', 'DT'), ('data_0', 'subsampling_2'), 'Acc'): 1.0,\n",
       " (('data_0', 'subsampling_1', 'DT'),\n",
       "  ('data_0', 'subsampling_2'),\n",
       "  'Bal_Acc'): 1.0,\n",
       " (('data_0', 'subsampling_2', 'LR'), ('data_0', 'subsampling_2'), 'Acc'): 1.0,\n",
       " (('data_0', 'subsampling_2', 'LR'),\n",
       "  ('data_0', 'subsampling_2'),\n",
       "  'Bal_Acc'): 1.0,\n",
       " (('data_0', 'subsampling_2', 'DT'), ('data_0', 'subsampling_2'), 'Acc'): 1.0,\n",
       " (('data_0', 'subsampling_2', 'DT'),\n",
       "  ('data_0', 'subsampling_2'),\n",
       "  'Bal_Acc'): 1.0,\n",
       " ('data_0', 'subsampling_0', 'LR', 'test', 'Acc'): 0.8461538461538461,\n",
       " ('data_0', 'subsampling_0', 'LR', 'test', 'Bal_Acc'): 0.8375,\n",
       " ('data_0', 'subsampling_0', 'DT', 'test', 'Acc'): 0.8461538461538461,\n",
       " ('data_0', 'subsampling_0', 'DT', 'test', 'Bal_Acc'): 0.8375,\n",
       " ('data_0', 'subsampling_1', 'LR', 'test', 'Acc'): 0.8461538461538461,\n",
       " ('data_0', 'subsampling_1', 'LR', 'test', 'Bal_Acc'): 0.8375,\n",
       " ('data_0', 'subsampling_1', 'DT', 'test', 'Acc'): 0.8461538461538461,\n",
       " ('data_0', 'subsampling_1', 'DT', 'test', 'Bal_Acc'): 0.8375,\n",
       " ('data_0', 'subsampling_2', 'LR', 'test', 'Acc'): 0.8461538461538461,\n",
       " ('data_0', 'subsampling_2', 'LR', 'test', 'Bal_Acc'): 0.8375,\n",
       " ('data_0', 'subsampling_2', 'DT', 'test', 'Acc'): 0.8461538461538461,\n",
       " ('data_0', 'subsampling_2', 'DT', 'test', 'Bal_Acc'): 0.8375,\n",
       " '__prev__': <pcsp.module_set.ModuleSet at 0x7f64e2429bb0>}"
      ]
     },
     "execution_count": 7,
     "metadata": {},
     "output_type": "execute_result"
    }
   ],
   "source": [
    "p.steps[2].modules"
   ]
  },
  {
   "cell_type": "code",
   "execution_count": 8,
   "metadata": {},
   "outputs": [],
   "source": [
    "# broken\n",
    "#df = p.generate_names()\n",
    "#df['hard_metrics'] = hard_metrics\n",
    "#df"
   ]
  },
  {
   "cell_type": "code",
   "execution_count": null,
   "metadata": {},
   "outputs": [],
   "source": []
  }
 ],
 "metadata": {
  "kernelspec": {
   "display_name": "Python 3",
   "language": "python",
   "name": "python3"
  },
  "language_info": {
   "codemirror_mode": {
    "name": "ipython",
    "version": 3
   },
   "file_extension": ".py",
   "mimetype": "text/x-python",
   "name": "python",
   "nbconvert_exporter": "python",
   "pygments_lexer": "ipython3",
   "version": "3.8.3"
  }
 },
 "nbformat": 4,
 "nbformat_minor": 4
}
