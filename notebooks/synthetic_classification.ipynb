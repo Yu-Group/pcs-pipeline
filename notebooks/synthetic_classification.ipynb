{
 "cells": [
  {
   "cell_type": "code",
   "execution_count": 25,
   "metadata": {},
   "outputs": [
    {
     "name": "stdout",
     "output_type": "stream",
     "text": [
      "The autoreload extension is already loaded. To reload it, use:\n",
      "  %reload_ext autoreload\n"
     ]
    }
   ],
   "source": [
    "'''Modified from sklearn documentation: https://scikit-learn.org/stable/modules/compose.html\n",
    "'''\n",
    "%load_ext autoreload\n",
    "%autoreload 2\n",
    "import numpy as np\n",
    "import matplotlib.pyplot as plt\n",
    "import pandas as pd\n",
    "\n",
    "from sklearn import datasets\n",
    "from sklearn.decomposition import PCA\n",
    "from sklearn.linear_model import LogisticRegression\n",
    "from sklearn.pipeline import Pipeline\n",
    "from sklearn.tree import DecisionTreeClassifier\n",
    "from sklearn.model_selection import GridSearchCV\n",
    "from sklearn.datasets import make_classification\n",
    "from pcsp import PCSPipeline, ModuleSet, Module # must install pcsp first (pip install pcsp)\n",
    "from sklearn.metrics import accuracy_score, balanced_accuracy_score, roc_auc_score\n",
    "from sklearn.model_selection import train_test_split\n",
    "from sklearn.utils import resample\n",
    "from functools import partial\n",
    "X, y = make_classification()"
   ]
  },
  {
   "cell_type": "code",
   "execution_count": 33,
   "metadata": {},
   "outputs": [
    {
     "name": "stdout",
     "output_type": "stream",
     "text": [
      "[0.9833333333333333, 0.9791666666666667]\n",
      "[1.0, 1.0]\n",
      "[0.9791666666666667]\n",
      "[1.0]\n",
      "[1.0, 1.0]\n",
      "[1.0, 1.0]\n",
      "[1.0]\n",
      "[1.0]\n",
      "[1.0, 1.0]\n",
      "[1.0, 1.0]\n",
      "[1.0]\n",
      "[1.0]\n"
     ]
    }
   ],
   "source": [
    "# top-level split\n",
    "X_train, X_test, y_train, y_test = train_test_split(X, y, random_state=42)\n",
    "\n",
    "# subsampling split\n",
    "subsampling_mods = [partial(resample, n_samples=int(X_train.shape[0]*0.8), random_state=i)\n",
    "                    for i in range(3)]\n",
    "subsampling_set = ModuleSet(name='subsampling', modules=subsampling_mods)\n",
    "\n",
    "\n",
    "datas = subsampling_set(X_train, y_train)\n",
    "for (X, y) in datas:\n",
    "\n",
    "    # modeling\n",
    "    modeling_mods = [LogisticRegression(max_iter=1000, tol=0.1), DecisionTreeClassifier()]\n",
    "    modeling_set = ModuleSet(name='modeling', modules=modeling_mods)\n",
    "    modeling_set.fit(X, y)\n",
    "\n",
    "    # different potential outputs (split)\n",
    "    preds_list = modeling_set.predict(X)\n",
    "    preds_proba_list = modeling_set.predict_proba(X)\n",
    "\n",
    "    hard_metrics_mods = [accuracy_score, balanced_accuracy_score]\n",
    "    hard_metrics_set = ModuleSet(name='hard_metrics', modules=hard_metrics_mods)\n",
    "    for preds in preds_list:\n",
    "        print(hard_metrics_set(y, preds))\n",
    "\n",
    "    soft_metrics_mods = [roc_auc_score]\n",
    "    soft_metrics_set = ModuleSet(name='soft_metrics', modules=soft_metrics_mods)\n",
    "    for preds_proba in preds_proba_list:\n",
    "        print(soft_metrics_set(y, preds_proba))"
   ]
  },
  {
   "cell_type": "code",
   "execution_count": null,
   "metadata": {},
   "outputs": [],
   "source": [
    "p = PCSPipeline()\n",
    "p.steps = [\n",
    "]"
   ]
  }
 ],
 "metadata": {
  "kernelspec": {
   "display_name": "Python 3",
   "language": "python",
   "name": "python3"
  },
  "language_info": {
   "codemirror_mode": {
    "name": "ipython",
    "version": 3
   },
   "file_extension": ".py",
   "mimetype": "text/x-python",
   "name": "python",
   "nbconvert_exporter": "python",
   "pygments_lexer": "ipython3",
   "version": "3.7.0"
  }
 },
 "nbformat": 4,
 "nbformat_minor": 2
}
