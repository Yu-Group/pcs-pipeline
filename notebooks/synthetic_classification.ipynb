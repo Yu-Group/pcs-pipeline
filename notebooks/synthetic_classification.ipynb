{
 "cells": [
  {
   "cell_type": "code",
   "execution_count": 1,
   "metadata": {
    "scrolled": true
   },
   "outputs": [],
   "source": [
    "'''Modified from sklearn documentation: https://scikit-learn.org/stable/modules/compose.html\n",
    "'''\n",
    "%load_ext autoreload\n",
    "%autoreload 2\n",
    "import numpy as np\n",
    "import matplotlib.pyplot as plt\n",
    "import pandas as pd\n",
    "\n",
    "import sklearn.datasets\n",
    "from sklearn.linear_model import LogisticRegression, Ridge\n",
    "# from sklearn.pipeline import Pipeline\n",
    "from sklearn.tree import DecisionTreeClassifier, DecisionTreeRegressor\n",
    "from sklearn.metrics import accuracy_score, balanced_accuracy_score, roc_auc_score,r2_score\n",
    "from sklearn.model_selection import train_test_split\n",
    "import sklearn.utils\n",
    "\n",
    "\n",
    "from pcsp import PCSPipeline, ModuleSet, Module, init_args # must install pcsp first (pip install pcsp)\n",
    "from pcsp.pipeline import build_graph\n",
    "\n",
    "from functools import partial\n",
    "import itertools\n",
    "import networkx as nx\n",
    "np.set_printoptions(threshold=5) # to limit printing"
   ]
  },
  {
   "cell_type": "markdown",
   "metadata": {},
   "source": [
    "# basic pipeline"
   ]
  },
  {
   "cell_type": "code",
   "execution_count": 2,
   "metadata": {},
   "outputs": [
    {
     "name": "stdout",
     "output_type": "stream",
     "text": [
      "{'X_train': array([[-0.30582021, -0.97541273, -1.15871714, -1.35132194, -0.54657674],\n",
      "       [-1.22242099,  0.8517753 , -0.80402087, -0.01690056,  0.2283352 ],\n",
      "       [-1.61601535,  0.49442318, -1.57177933, -0.73822631, -0.51644285],\n",
      "       ...,\n",
      "       [ 0.33619823,  0.50332566,  0.81539492,  0.84065391,  0.75470501],\n",
      "       [-0.05369964,  0.56461721,  0.38944096,  0.59680371,  0.1549036 ],\n",
      "       [ 1.26121505, -0.97449632,  0.75244047, -0.09102092,  0.50116769]]), '__prev__': 'init'}\n",
      "('X_train', 'subsampling_0', 'LR', 'X_test', 'Acc')\n",
      "('X_train', 'subsampling_0', 'LR', 'X_test', 'Bal_Acc')\n",
      "('X_train', 'subsampling_0', 'DT', 'X_test', 'Acc')\n",
      "('X_train', 'subsampling_0', 'DT', 'X_test', 'Bal_Acc')\n",
      "('X_train', 'subsampling_1', 'LR', 'X_test', 'Acc')\n",
      "('X_train', 'subsampling_1', 'LR', 'X_test', 'Bal_Acc')\n",
      "('X_train', 'subsampling_1', 'DT', 'X_test', 'Acc')\n",
      "('X_train', 'subsampling_1', 'DT', 'X_test', 'Bal_Acc')\n",
      "('X_train', 'subsampling_2', 'LR', 'X_test', 'Acc')\n",
      "('X_train', 'subsampling_2', 'LR', 'X_test', 'Bal_Acc')\n",
      "('X_train', 'subsampling_2', 'DT', 'X_test', 'Acc')\n",
      "('X_train', 'subsampling_2', 'DT', 'X_test', 'Bal_Acc')\n",
      "__prev__\n"
     ]
    },
    {
     "name": "stderr",
     "output_type": "stream",
     "text": [
      "/home/james/school/yugroup/projects/pcs_inference/pcs_pipeline/pcs-pipeline/pcsp/pipeline.py:117: UserWarning: This figure includes Axes that are not compatible with tight_layout, so results might be incorrect.\n",
      "  plt.tight_layout()\n"
     ]
    },
    {
     "data": {
      "image/png": "[encoded data removed]",
      "text/plain": [
       "<Figure size 432x288 with 1 Axes>"
      ]
     },
     "metadata": {},
     "output_type": "display_data"
    }
   ],
   "source": [
    "# initialize data\n",
    "np.random.seed(13)\n",
    "X, y = sklearn.datasets.make_classification(n_samples=50, n_features=5)\n",
    "X_train, X_test, y_train, y_test = train_test_split(X, y, random_state=42) # ex. with another split?\n",
    "X_train, X_test, y_train, y_test = init_args((X_train, X_test, y_train, y_test), # could run this line higher (on X, y)\n",
    "                                              names=['X_train', 'X_test', 'X_train', 'X_test'])  # optionally provide names for each of these\n",
    "\n",
    "print(X_train)\n",
    "\n",
    "\n",
    "# subsample data\n",
    "subsampling_funcs = [partial(sklearn.utils.resample,\n",
    "                            n_samples=20,\n",
    "                            random_state=i)\n",
    "                     for i in range(3)]\n",
    "subsampling_set = ModuleSet(name='subsampling',\n",
    "                            modules=subsampling_funcs)\n",
    "# print('X_train', X_train, 'y_train', y_train)\n",
    "X_trains, y_trains = subsampling_set(X_train, y_train) # subsampling_set([X_train, X_train], [y_train, y_train]) # artificially make it seem like there are multiple dsets (data_0 and data_1)\n",
    "\n",
    "\n",
    "# fit models\n",
    "modeling_set = ModuleSet(name='modeling',\n",
    "                         modules=[LogisticRegression(max_iter=1000, tol=0.1),\n",
    "                                  DecisionTreeClassifier()],\n",
    "                         module_keys=[\"LR\", \"DT\"], out={})\n",
    "\n",
    "modeling_set.fit(X_trains, y_trains)\n",
    "preds_test = modeling_set.predict(X_test)\n",
    "\n",
    "# get metrics\n",
    "hard_metrics_set = ModuleSet(name='hard_metrics',\n",
    "                             modules=[accuracy_score, balanced_accuracy_score],\n",
    "                             module_keys=[\"Acc\", \"Bal_Acc\"], out={})\n",
    "\n",
    "hard_metrics = hard_metrics_set.evaluate(y_test, preds_test)\n",
    "#hard_metrics.__prev__[0]\n",
    "#inspect the pipeline\n",
    "for k1, v1 in hard_metrics.items():\n",
    "    print(k1)\n",
    "G = build_graph(hard_metrics, draw=True)\n",
    "plt.show()"
   ]
  },
  {
   "cell_type": "markdown",
   "metadata": {},
   "source": [
    "# feature engineering pipeline\n",
    "**this data set predicts boston house-preices dataset (regression)**"
   ]
  },
  {
   "cell_type": "code",
   "execution_count": 3,
   "metadata": {},
   "outputs": [
    {
     "data": {
      "text/plain": [
       "{'__prev__': <pcsp.module_set.ModuleSet at 0x7f16cbe3adf0>}"
      ]
     },
     "execution_count": 3,
     "metadata": {},
     "output_type": "execute_result"
    }
   ],
   "source": [
    "# get data as df\n",
    "np.random.seed(13)\n",
    "data = sklearn.datasets.load_boston()\n",
    "df = pd.DataFrame.from_dict(data['data'])\n",
    "df.columns = data['feature_names']\n",
    "y = data['target']\n",
    "X_train, X_test, y_train, y_test = init_args(train_test_split(df, y, random_state=42),\n",
    "                                             names=['X_train', 'X_test', 'X_train', 'X_test'])\n",
    "\n",
    "\n",
    "# feature extraction - extracts two different sets of features from the same data\n",
    "def extract_feats(df: pd.DataFrame, feat_names=['CRIM', 'ZN', 'INDUS', 'CHAS']):\n",
    "    '''extract specific columns from dataframe\n",
    "    '''\n",
    "    return df[feat_names]\n",
    "feat_extraction_funcs = [partial(extract_feats, feat_names=['CRIM', 'ZN', 'INDUS', 'CHAS']),\n",
    "                         partial(extract_feats, feat_names=['CRIM', 'ZN', 'INDUS', 'CHAS', 'NOX', 'RM', 'AGE']),\n",
    "                        ]\n",
    "feat_extraction = ModuleSet(name='feat_extraction',\n",
    "                            modules=feat_extraction_funcs)\n",
    "\n",
    "X_feats_train = feat_extraction(X_train)\n",
    "X_feats_test = feat_extraction(X_test)\n",
    "\n",
    "#print(X_feats_train) \n",
    "#X_feats_train(),still weird that this is a list\n",
    "#X_feats_train\n",
    "# TODO: this is broken atm.. may want to preserve ModuleSet.modules in their original form of modules / functions\n",
    "X_feats_test = feat_extraction(X_test) # still weird that this is a list\n",
    "\n",
    "\n",
    "#fit models\n",
    "y = {\n",
    "     'data_0': y_train,\n",
    "     'data_1': y_test\n",
    "}\n",
    "\n",
    "y_train_dict = {('X_train', 'feat_extraction_0'): y_train, ('X_train', 'feat_extraction_1'): y_train}\n",
    "modeling_set = ModuleSet(name='modeling',\n",
    "                         modules=[Ridge(max_iter=1000, tol=0.1),\n",
    "                                  DecisionTreeRegressor()],\n",
    "                         module_keys=[\"Ridge\", \"DT\"])\n",
    "\n",
    "# how can we properly pass a y here so that it will fit properly?\n",
    "# this runs, but modeling_set.out is empty\n",
    "_ = modeling_set.fit(X_feats_train, y_train_dict)\n",
    "\n",
    "#get predictions\n",
    "preds_all = modeling_set.predict(X_feats_test)\n",
    "\n",
    "y_test_dict = {('data_0', 'feat_extraction_0'): y_test, ('data_0', 'feat_extraction_1'): y_test}\n",
    "\n",
    "#get metrics\n",
    "hard_metrics_set = ModuleSet(name='hard_metrics',\n",
    "                             modules=[r2_score],\n",
    "                            module_keys=[\"r2\"])\n",
    "hard_metrics = hard_metrics_set.evaluate(y_test_dict, preds_all)\n",
    "\n",
    "\n",
    "# inspect the pipeline\n",
    "#for k in hard_metrics:\n",
    "#     print(k, hard_metrics[k])\n",
    "#G = build_graph(hard_metrics, draw=True)\n",
    "#plt.show()\n",
    "hard_metrics"
   ]
  },
  {
   "cell_type": "code",
   "execution_count": 4,
   "metadata": {},
   "outputs": [
    {
     "data": {
      "text/plain": [
       "{('X_train',\n",
       "  'feat_extraction_0'):          CRIM    ZN  INDUS  CHAS\n",
       " 182   0.09103   0.0   2.46   0.0\n",
       " 155   3.53501   0.0  19.58   1.0\n",
       " 280   0.03578  20.0   3.33   0.0\n",
       " 126   0.38735   0.0  25.65   0.0\n",
       " 329   0.06724   0.0   3.24   0.0\n",
       " ..        ...   ...    ...   ...\n",
       " 106   0.17120   0.0   8.56   0.0\n",
       " 270   0.29916  20.0   6.96   0.0\n",
       " 348   0.01501  80.0   2.01   0.0\n",
       " 435  11.16040   0.0  18.10   0.0\n",
       " 102   0.22876   0.0   8.56   0.0\n",
       " \n",
       " [379 rows x 4 columns],\n",
       " ('X_train',\n",
       "  'feat_extraction_1'):          CRIM    ZN  INDUS  CHAS     NOX     RM   AGE\n",
       " 182   0.09103   0.0   2.46   0.0  0.4880  7.155  92.2\n",
       " 155   3.53501   0.0  19.58   1.0  0.8710  6.152  82.6\n",
       " 280   0.03578  20.0   3.33   0.0  0.4429  7.820  64.5\n",
       " 126   0.38735   0.0  25.65   0.0  0.5810  5.613  95.6\n",
       " 329   0.06724   0.0   3.24   0.0  0.4600  6.333  17.2\n",
       " ..        ...   ...    ...   ...     ...    ...   ...\n",
       " 106   0.17120   0.0   8.56   0.0  0.5200  5.836  91.9\n",
       " 270   0.29916  20.0   6.96   0.0  0.4640  5.856  42.1\n",
       " 348   0.01501  80.0   2.01   0.0  0.4350  6.635  29.7\n",
       " 435  11.16040   0.0  18.10   0.0  0.7400  6.629  94.6\n",
       " 102   0.22876   0.0   8.56   0.0  0.5200  6.405  85.4\n",
       " \n",
       " [379 rows x 7 columns],\n",
       " '__prev__': <pcsp.module_set.ModuleSet at 0x7f16cbe3a5b0>}"
      ]
     },
     "execution_count": 4,
     "metadata": {},
     "output_type": "execute_result"
    }
   ],
   "source": [
    "X_feats_train"
   ]
  },
  {
   "cell_type": "code",
   "execution_count": 5,
   "metadata": {},
   "outputs": [
    {
     "data": {
      "text/plain": [
       "{'Ridge': Ridge(max_iter=1000, tol=0.1), 'DT': DecisionTreeRegressor()}"
      ]
     },
     "execution_count": 5,
     "metadata": {},
     "output_type": "execute_result"
    }
   ],
   "source": [
    "modeling_set.modules"
   ]
  },
  {
   "cell_type": "code",
   "execution_count": 6,
   "metadata": {},
   "outputs": [
    {
     "data": {
      "text/plain": [
       "{('X_train',\n",
       "  'feat_extraction_0'): {'X_train': array([37.9, 15.6, 45.4, ..., 24.5, 13.4, 18.6]), '__prev__': 'init'},\n",
       " ('X_train',\n",
       "  'feat_extraction_1'): {'X_train': array([37.9, 15.6, 45.4, ..., 24.5, 13.4, 18.6]), '__prev__': 'init'}}"
      ]
     },
     "execution_count": 6,
     "metadata": {},
     "output_type": "execute_result"
    }
   ],
   "source": [
    "y_train_dict"
   ]
  },
  {
   "cell_type": "code",
   "execution_count": 7,
   "metadata": {},
   "outputs": [
    {
     "data": {
      "text/plain": [
       "{'__prev__': <pcsp.module_set.ModuleSet at 0x7f16cbe3ad90>}"
      ]
     },
     "execution_count": 7,
     "metadata": {},
     "output_type": "execute_result"
    }
   ],
   "source": [
    "preds_all"
   ]
  },
  {
   "cell_type": "markdown",
   "metadata": {},
   "source": [
    "# tracking things w Pipeline (deprecated)"
   ]
  },
  {
   "cell_type": "code",
   "execution_count": 8,
   "metadata": {},
   "outputs": [],
   "source": [
    "p = PCSPipeline()"
   ]
  },
  {
   "cell_type": "code",
   "execution_count": 9,
   "metadata": {},
   "outputs": [],
   "source": [
    "p.steps = [subsampling_set, modeling_set, hard_metrics_set] # how to deal w/ hard metrics?"
   ]
  },
  {
   "cell_type": "code",
   "execution_count": 10,
   "metadata": {},
   "outputs": [],
   "source": [
    "# broken\n",
    "# p.run(X_train, y_train)"
   ]
  },
  {
   "cell_type": "code",
   "execution_count": 11,
   "metadata": {},
   "outputs": [
    {
     "data": {
      "text/plain": [
       "{'r2': <function sklearn.metrics._regression.r2_score(y_true, y_pred, *, sample_weight=None, multioutput='uniform_average')>}"
      ]
     },
     "execution_count": 11,
     "metadata": {},
     "output_type": "execute_result"
    }
   ],
   "source": [
    "p.steps[2].modules"
   ]
  },
  {
   "cell_type": "code",
   "execution_count": 12,
   "metadata": {},
   "outputs": [],
   "source": [
    "# broken\n",
    "#df = p.generate_names()\n",
    "#df['hard_metrics'] = hard_metrics\n",
    "#df"
   ]
  },
  {
   "cell_type": "code",
   "execution_count": null,
   "metadata": {},
   "outputs": [],
   "source": []
  }
 ],
 "metadata": {
  "kernelspec": {
   "display_name": "Python 3",
   "language": "python",
   "name": "python3"
  },
  "language_info": {
   "codemirror_mode": {
    "name": "ipython",
    "version": 3
   },
   "file_extension": ".py",
   "mimetype": "text/x-python",
   "name": "python",
   "nbconvert_exporter": "python",
   "pygments_lexer": "ipython3",
   "version": "3.8.5"
  }
 },
 "nbformat": 4,
 "nbformat_minor": 4
}
