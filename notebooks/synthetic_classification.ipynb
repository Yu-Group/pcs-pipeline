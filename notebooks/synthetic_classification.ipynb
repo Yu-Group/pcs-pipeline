{
 "cells": [
  {
   "cell_type": "code",
   "execution_count": 1,
   "metadata": {},
   "outputs": [],
   "source": [
    "'''Modified from sklearn documentation: https://scikit-learn.org/stable/modules/compose.html\n",
    "'''\n",
    "%load_ext autoreload\n",
    "%autoreload 2\n",
    "import numpy as np\n",
    "import matplotlib.pyplot as plt\n",
    "import pandas as pd\n",
    "\n",
    "from sklearn import datasets\n",
    "from sklearn.decomposition import PCA\n",
    "from sklearn.linear_model import LogisticRegression\n",
    "from sklearn.pipeline import Pipeline\n",
    "from sklearn.tree import DecisionTreeClassifier\n",
    "from sklearn.model_selection import GridSearchCV\n",
    "from sklearn.datasets import make_classification\n",
    "from pcsp import PCSPipeline, ModuleSet, Module # must install pcsp first (pip install pcsp)\n",
    "from pcsp.module_set import to_tuple, to_list\n",
    "from sklearn.metrics import accuracy_score, balanced_accuracy_score, roc_auc_score\n",
    "from sklearn.model_selection import train_test_split\n",
    "from sklearn.utils import resample\n",
    "from functools import partial"
   ]
  },
  {
   "cell_type": "code",
   "execution_count": 2,
   "metadata": {},
   "outputs": [],
   "source": [
    "# p = PCSPipeline()\n",
    "# p.steps = [\n",
    "#     partial(train_test_split, random_state=42), # outputs X_train, X_test, y_train, y_test\n",
    "#     ModuleSet(name='subsampling', modules=[partial(resample, # subsamples\n",
    "#                                                    n_samples=int(X_train.shape[0]*0.8), random_state=i)\n",
    "#                                            for i in range(3)]),\n",
    "# ]\n",
    "# p.run(X, y)"
   ]
  },
  {
   "cell_type": "markdown",
   "metadata": {},
   "source": [
    "# Using ModuleSet"
   ]
  },
  {
   "cell_type": "code",
   "execution_count": 39,
   "metadata": {},
   "outputs": [
    {
     "data": {
      "text/plain": [
       "(37, 20)"
      ]
     },
     "execution_count": 39,
     "metadata": {},
     "output_type": "execute_result"
    }
   ],
   "source": [
    "X1.shape"
   ]
  },
  {
   "cell_type": "code",
   "execution_count": 40,
   "metadata": {},
   "outputs": [
    {
     "data": {
      "text/plain": [
       "(37,)"
      ]
     },
     "execution_count": 40,
     "metadata": {},
     "output_type": "execute_result"
    }
   ],
   "source": [
    "y1.shape"
   ]
  },
  {
   "cell_type": "code",
   "execution_count": 43,
   "metadata": {},
   "outputs": [
    {
     "name": "stdout",
     "output_type": "stream",
     "text": [
      "intro args 2\n",
      "args_tuple 2 1 kwargs {}\n",
      "args_list 1 2\n",
      "arg 2 (37, 20) (37,)\n",
      "shapes (37, 20) (37,)\n",
      "\n",
      "modeling....\n",
      "intro args 2\n",
      "args_tuple 2 3 kwargs {}\n",
      "args_list 3 2\n",
      "arg 2 (37, 20) (37,)\n",
      "arg 2 (37, 20) (37,)\n",
      "arg 2 (37, 20) (37,)\n"
     ]
    },
    {
     "ename": "TypeError",
     "evalue": "object of type 'LogisticRegression' has no len()",
     "output_type": "error",
     "traceback": [
      "\u001b[0;31m---------------------------------------------------------------------------\u001b[0m",
      "\u001b[0;31mTypeError\u001b[0m                                 Traceback (most recent call last)",
      "\u001b[0;32m<ipython-input-43-fcf6397f9f54>\u001b[0m in \u001b[0;36m<module>\u001b[0;34m()\u001b[0m\n\u001b[1;32m     22\u001b[0m \u001b[0mmodeling_mods\u001b[0m \u001b[0;34m=\u001b[0m \u001b[0;34m[\u001b[0m\u001b[0mLogisticRegression\u001b[0m\u001b[0;34m(\u001b[0m\u001b[0mmax_iter\u001b[0m\u001b[0;34m=\u001b[0m\u001b[0;36m1000\u001b[0m\u001b[0;34m,\u001b[0m \u001b[0mtol\u001b[0m\u001b[0;34m=\u001b[0m\u001b[0;36m0.1\u001b[0m\u001b[0;34m)\u001b[0m\u001b[0;34m,\u001b[0m \u001b[0mDecisionTreeClassifier\u001b[0m\u001b[0;34m(\u001b[0m\u001b[0;34m)\u001b[0m\u001b[0;34m]\u001b[0m\u001b[0;34m\u001b[0m\u001b[0m\n\u001b[1;32m     23\u001b[0m \u001b[0mmodeling_set\u001b[0m \u001b[0;34m=\u001b[0m \u001b[0mModuleSet\u001b[0m\u001b[0;34m(\u001b[0m\u001b[0mname\u001b[0m\u001b[0;34m=\u001b[0m\u001b[0;34m'modeling'\u001b[0m\u001b[0;34m,\u001b[0m \u001b[0mmodules\u001b[0m\u001b[0;34m=\u001b[0m\u001b[0mmodeling_mods\u001b[0m\u001b[0;34m)\u001b[0m\u001b[0;34m\u001b[0m\u001b[0m\n\u001b[0;32m---> 24\u001b[0;31m \u001b[0mmodeling_set\u001b[0m\u001b[0;34m.\u001b[0m\u001b[0mfit\u001b[0m\u001b[0;34m(\u001b[0m\u001b[0mX\u001b[0m\u001b[0;34m,\u001b[0m \u001b[0my\u001b[0m\u001b[0;34m)\u001b[0m\u001b[0;34m\u001b[0m\u001b[0m\n\u001b[0m\u001b[1;32m     25\u001b[0m \u001b[0;34m\u001b[0m\u001b[0m\n\u001b[1;32m     26\u001b[0m '''\n",
      "\u001b[0;32m~/drive/research/pcs_pipeline/pcs-pipeline/pcsp/module_set.py\u001b[0m in \u001b[0;36mfit\u001b[0;34m(self, *args, **kwargs)\u001b[0m\n\u001b[1;32m     20\u001b[0m         '''\n\u001b[1;32m     21\u001b[0m         \u001b[0mfuncs\u001b[0m \u001b[0;34m=\u001b[0m \u001b[0;34m[\u001b[0m\u001b[0mmod\u001b[0m\u001b[0;34m.\u001b[0m\u001b[0mfit\u001b[0m \u001b[0;32mfor\u001b[0m \u001b[0mmod\u001b[0m \u001b[0;32min\u001b[0m \u001b[0mself\u001b[0m\u001b[0;34m.\u001b[0m\u001b[0mmodules\u001b[0m\u001b[0;34m]\u001b[0m\u001b[0;34m\u001b[0m\u001b[0m\n\u001b[0;32m---> 22\u001b[0;31m         \u001b[0;32mreturn\u001b[0m \u001b[0mself\u001b[0m\u001b[0;34m.\u001b[0m\u001b[0mapply_func\u001b[0m\u001b[0;34m(\u001b[0m\u001b[0mfuncs\u001b[0m\u001b[0;34m,\u001b[0m \u001b[0;34m*\u001b[0m\u001b[0margs\u001b[0m\u001b[0;34m,\u001b[0m \u001b[0;34m**\u001b[0m\u001b[0mkwargs\u001b[0m\u001b[0;34m)\u001b[0m\u001b[0;34m\u001b[0m\u001b[0m\n\u001b[0m\u001b[1;32m     23\u001b[0m \u001b[0;34m\u001b[0m\u001b[0m\n\u001b[1;32m     24\u001b[0m     \u001b[0;32mdef\u001b[0m \u001b[0mapply_func\u001b[0m\u001b[0;34m(\u001b[0m\u001b[0mself\u001b[0m\u001b[0;34m,\u001b[0m \u001b[0mfuncs\u001b[0m\u001b[0;34m,\u001b[0m \u001b[0;34m*\u001b[0m\u001b[0margs\u001b[0m\u001b[0;34m,\u001b[0m \u001b[0;34m**\u001b[0m\u001b[0mkwargs\u001b[0m\u001b[0;34m)\u001b[0m\u001b[0;34m:\u001b[0m\u001b[0;34m\u001b[0m\u001b[0m\n",
      "\u001b[0;32m~/drive/research/pcs_pipeline/pcs-pipeline/pcsp/module_set.py\u001b[0m in \u001b[0;36mapply_func\u001b[0;34m(self, funcs, *args, **kwargs)\u001b[0m\n\u001b[1;32m     49\u001b[0m                 \u001b[0;31m# print('result', s(result), s(result[0]), s(result[1]), s(result[0][0]))\u001b[0m\u001b[0;34m\u001b[0m\u001b[0;34m\u001b[0m\u001b[0m\n\u001b[1;32m     50\u001b[0m         \u001b[0;31m# print('len(results)', len(results), len(results[0]), s(results[0][0]), s(results[0][1]))\u001b[0m\u001b[0;34m\u001b[0m\u001b[0;34m\u001b[0m\u001b[0m\n\u001b[0;32m---> 51\u001b[0;31m         \u001b[0;32mreturn\u001b[0m \u001b[0mto_tuple\u001b[0m\u001b[0;34m(\u001b[0m\u001b[0mresults\u001b[0m\u001b[0;34m)\u001b[0m\u001b[0;34m\u001b[0m\u001b[0m\n\u001b[0m\u001b[1;32m     52\u001b[0m \u001b[0;34m\u001b[0m\u001b[0m\n\u001b[1;32m     53\u001b[0m     \u001b[0;32mdef\u001b[0m \u001b[0mtransform\u001b[0m\u001b[0;34m(\u001b[0m\u001b[0mself\u001b[0m\u001b[0;34m,\u001b[0m \u001b[0;34m*\u001b[0m\u001b[0margs\u001b[0m\u001b[0;34m,\u001b[0m \u001b[0;34m**\u001b[0m\u001b[0mkwargs\u001b[0m\u001b[0;34m)\u001b[0m\u001b[0;34m:\u001b[0m\u001b[0;34m\u001b[0m\u001b[0m\n",
      "\u001b[0;32m~/drive/research/pcs_pipeline/pcs-pipeline/pcsp/module_set.py\u001b[0m in \u001b[0;36mto_tuple\u001b[0;34m(lists)\u001b[0m\n\u001b[1;32m    109\u001b[0m     \u001b[0;32mif\u001b[0m \u001b[0mn_mods\u001b[0m \u001b[0;34m<=\u001b[0m \u001b[0;36m1\u001b[0m\u001b[0;34m:\u001b[0m\u001b[0;34m\u001b[0m\u001b[0m\n\u001b[1;32m    110\u001b[0m         \u001b[0;32mreturn\u001b[0m \u001b[0mlists\u001b[0m\u001b[0;34m\u001b[0m\u001b[0m\n\u001b[0;32m--> 111\u001b[0;31m     \u001b[0mn_tup\u001b[0m \u001b[0;34m=\u001b[0m \u001b[0mlen\u001b[0m\u001b[0;34m(\u001b[0m\u001b[0mlists\u001b[0m\u001b[0;34m[\u001b[0m\u001b[0;36m0\u001b[0m\u001b[0;34m]\u001b[0m\u001b[0;34m)\u001b[0m\u001b[0;34m\u001b[0m\u001b[0m\n\u001b[0m\u001b[1;32m    112\u001b[0m     \u001b[0mtup\u001b[0m \u001b[0;34m=\u001b[0m \u001b[0;34m[\u001b[0m\u001b[0;34m[\u001b[0m\u001b[0;34m]\u001b[0m \u001b[0;32mfor\u001b[0m \u001b[0m_\u001b[0m \u001b[0;32min\u001b[0m \u001b[0mrange\u001b[0m\u001b[0;34m(\u001b[0m\u001b[0mn_tup\u001b[0m\u001b[0;34m)\u001b[0m\u001b[0;34m]\u001b[0m\u001b[0;34m\u001b[0m\u001b[0m\n\u001b[1;32m    113\u001b[0m     \u001b[0;32mfor\u001b[0m \u001b[0mi\u001b[0m \u001b[0;32min\u001b[0m \u001b[0mrange\u001b[0m\u001b[0;34m(\u001b[0m\u001b[0mn_mods\u001b[0m\u001b[0;34m)\u001b[0m\u001b[0;34m:\u001b[0m\u001b[0;34m\u001b[0m\u001b[0m\n",
      "\u001b[0;31mTypeError\u001b[0m: object of type 'LogisticRegression' has no len()"
     ]
    }
   ],
   "source": [
    "X, y = make_classification(n_samples=50, n_features=20)\n",
    "X_train, X_test, y_train, y_test = train_test_split(X, y, random_state=42)\n",
    "\n",
    "\n",
    "# subsampling split\n",
    "subsampling_mods = [partial(resample,\n",
    "#                             n_samples=int(X_train.shape[0]*0.8),\n",
    "                            random_state=i)\n",
    "                    for i in range(3)]\n",
    "subsampling_set = ModuleSet(name='subsampling', modules=subsampling_mods)\n",
    "\n",
    "# need to pack things to start\n",
    "# arg = unpack_to_tuple([X_train, y_train])\n",
    "# ([x1, x2, x3], [y1, y2, y3])\n",
    "X, y = subsampling_set([X_train], [y_train]) # X, y are each lists \n",
    "X1, y1 = X[0], y[0]\n",
    "print('shapes', X1.shape, y1.shape)\n",
    "\n",
    "\n",
    "print('\\nmodeling....')\n",
    "# modeling\n",
    "modeling_mods = [LogisticRegression(max_iter=1000, tol=0.1), DecisionTreeClassifier()]\n",
    "modeling_set = ModuleSet(name='modeling', modules=modeling_mods)\n",
    "modeling_set.fit(X, y)\n",
    "\n",
    "'''\n",
    "# different potential outputs (split)\n",
    "preds_list = modeling_set.predict(X)\n",
    "preds_proba_list = modeling_set.predict_proba(X)\n",
    "\n",
    "hard_metrics_mods = [accuracy_score, balanced_accuracy_score]\n",
    "hard_metrics_set = ModuleSet(name='hard_metrics', modules=hard_metrics_mods)\n",
    "for preds in preds_list:\n",
    "    print(hard_metrics_set(y, preds))\n",
    "\n",
    "soft_metrics_mods = [roc_auc_score]\n",
    "soft_metrics_set = ModuleSet(name='soft_metrics', modules=soft_metrics_mods)\n",
    "for preds_proba in preds_proba_list:\n",
    "    print(soft_metrics_set(y, preds_proba))\n",
    "'''"
   ]
  },
  {
   "cell_type": "code",
   "execution_count": 5,
   "metadata": {},
   "outputs": [
    {
     "data": {
      "text/plain": [
       "3"
      ]
     },
     "execution_count": 5,
     "metadata": {},
     "output_type": "execute_result"
    }
   ],
   "source": [
    "len(X)"
   ]
  },
  {
   "cell_type": "code",
   "execution_count": 6,
   "metadata": {},
   "outputs": [
    {
     "data": {
      "text/plain": [
       "60"
      ]
     },
     "execution_count": 6,
     "metadata": {},
     "output_type": "execute_result"
    }
   ],
   "source": [
    "len(X[0])"
   ]
  },
  {
   "cell_type": "code",
   "execution_count": 7,
   "metadata": {},
   "outputs": [
    {
     "data": {
      "text/plain": [
       "list"
      ]
     },
     "execution_count": 7,
     "metadata": {},
     "output_type": "execute_result"
    }
   ],
   "source": [
    "type(X[0])"
   ]
  },
  {
   "cell_type": "code",
   "execution_count": 44,
   "metadata": {},
   "outputs": [
    {
     "data": {
      "text/plain": [
       "75"
      ]
     },
     "execution_count": 44,
     "metadata": {},
     "output_type": "execute_result"
    }
   ],
   "source": [
    "len(X[0][0])"
   ]
  },
  {
   "cell_type": "code",
   "execution_count": 4,
   "metadata": {},
   "outputs": [
    {
     "data": {
      "text/plain": [
       "(75, 20)"
      ]
     },
     "execution_count": 4,
     "metadata": {},
     "output_type": "execute_result"
    }
   ],
   "source": [
    "X_train.shape"
   ]
  },
  {
   "cell_type": "markdown",
   "metadata": {},
   "source": [
    "# Using ModuleSet without packing"
   ]
  },
  {
   "cell_type": "code",
   "execution_count": null,
   "metadata": {},
   "outputs": [],
   "source": [
    "X_train, X_test, y_train, y_test = train_test_split(X, y, random_state=42)\n",
    "\n",
    "# subsampling split\n",
    "subsampling_mods = [partial(resample, n_samples=int(X_train.shape[0]*0.8), random_state=i)\n",
    "                    for i in range(3)]\n",
    "subsampling_set = ModuleSet(name='subsampling', modules=subsampling_mods)\n",
    "\n",
    "\n",
    "X, y = subsampling_set(X_train, y_train)\n",
    "for (X, y) in datas:\n",
    "\n",
    "    # modeling\n",
    "    modeling_mods = [LogisticRegression(max_iter=1000, tol=0.1), DecisionTreeClassifier()]\n",
    "    modeling_set = ModuleSet(name='modeling', modules=modeling_mods)\n",
    "    modeling_set.fit(X, y)\n",
    "\n",
    "    # different potential outputs (split)\n",
    "    preds_list = modeling_set.predict(X)\n",
    "    preds_proba_list = modeling_set.predict_proba(X)\n",
    "\n",
    "    hard_metrics_mods = [accuracy_score, balanced_accuracy_score]\n",
    "    hard_metrics_set = ModuleSet(name='hard_metrics', modules=hard_metrics_mods)\n",
    "    for preds in preds_list:\n",
    "        print(hard_metrics_set(y, preds))\n",
    "\n",
    "    soft_metrics_mods = [roc_auc_score]\n",
    "    soft_metrics_set = ModuleSet(name='soft_metrics', modules=soft_metrics_mods)\n",
    "    for preds_proba in preds_proba_list:\n",
    "        print(soft_metrics_set(y, preds_proba))"
   ]
  }
 ],
 "metadata": {
  "kernelspec": {
   "display_name": "Python 3",
   "language": "python",
   "name": "python3"
  },
  "language_info": {
   "codemirror_mode": {
    "name": "ipython",
    "version": 3
   },
   "file_extension": ".py",
   "mimetype": "text/x-python",
   "name": "python",
   "nbconvert_exporter": "python",
   "pygments_lexer": "ipython3",
   "version": "3.7.0"
  }
 },
 "nbformat": 4,
 "nbformat_minor": 2
}
