{
 "cells": [
  {
   "cell_type": "code",
   "execution_count": 68,
   "metadata": {
    "scrolled": true
   },
   "outputs": [
    {
     "name": "stdout",
     "output_type": "stream",
     "text": [
      "The autoreload extension is already loaded. To reload it, use:\n",
      "  %reload_ext autoreload\n"
     ]
    }
   ],
   "source": [
    "'''Modified from sklearn documentation: https://scikit-learn.org/stable/modules/compose.html\n",
    "'''\n",
    "%load_ext autoreload\n",
    "%autoreload 2\n",
    "import numpy as np\n",
    "import matplotlib.pyplot as plt\n",
    "import pandas as pd\n",
    "\n",
    "import sklearn.datasets\n",
    "from sklearn.linear_model import LogisticRegression, Ridge\n",
    "# from sklearn.pipeline import Pipeline\n",
    "from sklearn.tree import DecisionTreeClassifier, DecisionTreeRegressor\n",
    "from sklearn.metrics import accuracy_score, balanced_accuracy_score, roc_auc_score,r2_score\n",
    "from sklearn.model_selection import train_test_split\n",
    "import sklearn.utils\n",
    "\n",
    "\n",
    "from pcsp import PCSPipeline, ModuleSet, Module, init_args # must install pcsp first (pip install pcsp)\n",
    "from pcsp.pipeline import build_graph\n",
    "\n",
    "from functools import partial\n",
    "import itertools\n",
    "import networkx as nx\n",
    "np.set_printoptions(threshold=5) # to limit printing"
   ]
  },
  {
   "cell_type": "markdown",
   "metadata": {},
   "source": [
    "# basic pipeline"
   ]
  },
  {
   "cell_type": "code",
   "execution_count": 100,
   "metadata": {},
   "outputs": [
    {
     "name": "stdout",
     "output_type": "stream",
     "text": [
      "{'X_train': array([[-0.30582021, -0.97541273, -1.15871714, -1.35132194, -0.54657674],\n",
      "       [-1.22242099,  0.8517753 , -0.80402087, -0.01690056,  0.2283352 ],\n",
      "       [-1.61601535,  0.49442318, -1.57177933, -0.73822631, -0.51644285],\n",
      "       ...,\n",
      "       [ 0.33619823,  0.50332566,  0.81539492,  0.84065391,  0.75470501],\n",
      "       [-0.05369964,  0.56461721,  0.38944096,  0.59680371,  0.1549036 ],\n",
      "       [ 1.26121505, -0.97449632,  0.75244047, -0.09102092,  0.50116769]]), '__prev__': 'init'}\n"
     ]
    },
    {
     "ename": "TypeError",
     "evalue": "__init__() got an unexpected keyword argument 'output'",
     "output_type": "error",
     "traceback": [
      "\u001b[0;31m---------------------------------------------------------------------------\u001b[0m",
      "\u001b[0;31mTypeError\u001b[0m                                 Traceback (most recent call last)",
      "\u001b[0;32m<ipython-input-100-dc0c44f78d54>\u001b[0m in \u001b[0;36m<module>\u001b[0;34m\u001b[0m\n\u001b[1;32m     21\u001b[0m \u001b[0;34m\u001b[0m\u001b[0m\n\u001b[1;32m     22\u001b[0m \u001b[0;31m# fit models\u001b[0m\u001b[0;34m\u001b[0m\u001b[0;34m\u001b[0m\u001b[0;34m\u001b[0m\u001b[0m\n\u001b[0;32m---> 23\u001b[0;31m modeling_set = ModuleSet(name='modeling',\n\u001b[0m\u001b[1;32m     24\u001b[0m                          modules=[LogisticRegression(max_iter=1000, tol=0.1),\n\u001b[1;32m     25\u001b[0m                                   DecisionTreeClassifier()],\n",
      "\u001b[0;31mTypeError\u001b[0m: __init__() got an unexpected keyword argument 'output'"
     ]
    }
   ],
   "source": [
    "# initialize data\n",
    "np.random.seed(13)\n",
    "X, y = sklearn.datasets.make_classification(n_samples=50, n_features=5)\n",
    "X_train, X_test, y_train, y_test = train_test_split(X, y, random_state=42) # ex. with another split?\n",
    "X_train, X_test, y_train, y_test = init_args((X_train, X_test, y_train, y_test), # could run this line higher (on X, y)\n",
    "                                              names=['X_train', 'X_test', 'X_train', 'X_test'])  # optionally provide names for each of these\n",
    "\n",
    "print(X_train)\n",
    "\n",
    "\n",
    "# subsample data\n",
    "subsampling_funcs = [partial(sklearn.utils.resample,\n",
    "                            n_samples=20,\n",
    "                            random_state=i)\n",
    "                     for i in range(3)]\n",
    "subsampling_set = ModuleSet(name='subsampling',\n",
    "                            modules=subsampling_funcs)\n",
    "# print('X_train', X_train, 'y_train', y_train)\n",
    "X_trains, y_trains = subsampling_set(X_train, y_train) # subsampling_set([X_train, X_train], [y_train, y_train]) # artificially make it seem like there are multiple dsets (data_0 and data_1)\n",
    "\n",
    "\n",
    "# fit models\n",
    "modeling_set = ModuleSet(name='modeling',\n",
    "                         modules=[LogisticRegression(max_iter=1000, tol=0.1),\n",
    "                                  DecisionTreeClassifier()],\n",
    "                         module_keys=[\"LR\", \"DT\"], out={})\n",
    "\n",
    "modeling_set.fit(X_trains, y_trains)\n",
    "preds_test = modeling_set.predict(X_test)\n",
    "\n",
    "# get metrics\n",
    "hard_metrics_set = ModuleSet(name='hard_metrics',\n",
    "                             modules=[accuracy_score, balanced_accuracy_score],\n",
    "                             module_keys=[\"Acc\", \"Bal_Acc\"], out={})\n",
    "\n",
    "hard_metrics = hard_metrics_set.evaluate(y_all, preds_test)\n",
    "#hard_metrics.__prev__[0]\n",
    "#inspect the pipeline\n",
    "for k1, v1 in hard_metrics.items():\n",
    "    print(k1)\n",
    "G = build_graph(hard_metrics, draw=True)\n",
    "plt.show()"
   ]
  },
  {
   "cell_type": "markdown",
   "metadata": {},
   "source": [
    "# feature engineering pipeline\n",
    "**this data set predicts boston house-preices dataset (regression)**"
   ]
  },
  {
   "cell_type": "code",
   "execution_count": 9,
   "metadata": {},
   "outputs": [
    {
     "data": {
      "text/plain": [
       "{(('data_0', 'feat_extraction_0', 'Ridge'),\n",
       "  ('data_0', 'feat_extraction_1'),\n",
       "  'r2'): 0.5315623536522901,\n",
       " (('data_0', 'feat_extraction_0', 'DT'),\n",
       "  ('data_0', 'feat_extraction_1'),\n",
       "  'r2'): 0.6693138308148314,\n",
       " (('data_0', 'feat_extraction_1', 'Ridge'),\n",
       "  ('data_0', 'feat_extraction_1'),\n",
       "  'r2'): 0.5315623536522901,\n",
       " (('data_0', 'feat_extraction_1', 'DT'),\n",
       "  ('data_0', 'feat_extraction_1'),\n",
       "  'r2'): 0.6693138308148314,\n",
       " '__prev__': <pcsp.module_set.ModuleSet at 0x7fc259a565e0>}"
      ]
     },
     "execution_count": 9,
     "metadata": {},
     "output_type": "execute_result"
    }
   ],
   "source": [
    "# get data as df\n",
    "np.random.seed(13)\n",
    "data = sklearn.datasets.load_boston()\n",
    "df = pd.DataFrame.from_dict(data['data'])\n",
    "df.columns = data['feature_names']\n",
    "y = data['target']\n",
    "X_train, X_test, y_train, y_test = train_test_split(df, y, random_state=42)\n",
    "\n",
    "\n",
    "# feature extraction - extracts two different sets of features from the same data\n",
    "def extract_feats(df: pd.DataFrame, feat_names=['CRIM', 'ZN', 'INDUS', 'CHAS']):\n",
    "    '''extract specific columns from dataframe\n",
    "    '''\n",
    "    return df[feat_names]\n",
    "feat_extraction_funcs = [partial(extract_feats, feat_names=['CRIM', 'ZN', 'INDUS', 'CHAS']),\n",
    "                         partial(extract_feats, feat_names=['CRIM', 'ZN', 'INDUS', 'CHAS', 'NOX', 'RM', 'AGE']),\n",
    "                        ]\n",
    "feat_extraction = ModuleSet(name='feat_extraction',\n",
    "                            modules=feat_extraction_funcs,output = {})\n",
    "\n",
    "X_feats_train = feat_extraction(X_train)\n",
    "X_feats_test = feat_extraction(X_test)\n",
    "\n",
    "#print(X_feats_train) \n",
    "#X_feats_train(),still weird that this is a list\n",
    "#X_feats_train\n",
    "# TODO: this is broken atm.. may want to preserve ModuleSet.modules in their original form of modules / functions\n",
    "X_feats_test = feat_extraction(X_test) # still weird that this is a list\n",
    "\n",
    "\n",
    "#fit models\n",
    "y = {\n",
    "     'data_0': y_train,\n",
    "     'data_1': y_test\n",
    "}\n",
    "\n",
    "y_train_dict = {('data_0', 'feat_extraction_0'): y_train, ('data_0', 'feat_extraction_1'): y_train}\n",
    "modeling_set = ModuleSet(name='modeling',\n",
    "                         modules=[Ridge(max_iter=1000, tol=0.1),\n",
    "                                  DecisionTreeRegressor()],\n",
    "                         module_keys=[\"Ridge\", \"DT\"],output = {})\n",
    "# how can we properly pass a y here so that it will fit properly?\n",
    "_ = modeling_set.fit(X_feats_train, y_train_dict)\n",
    "\n",
    "\n",
    "#get predictions\n",
    "preds_all = modeling_set.predict(X_feats_test)\n",
    "\n",
    "y_test_dict = {('data_0', 'feat_extraction_0'): y_test, ('data_0', 'feat_extraction_1'): y_test}\n",
    "\n",
    "#get metrics\n",
    "hard_metrics_set = ModuleSet(name='hard_metrics',\n",
    "                             modules=[r2_score],\n",
    "                            module_keys=[\"r2\"],output = {})\n",
    "hard_metrics = hard_metrics_set.evaluate(y_test_dict, preds_all)\n",
    "\n",
    "\n",
    "# inspect the pipeline\n",
    "#for k in hard_metrics:\n",
    "#     print(k, hard_metrics[k])\n",
    "#G = build_graph(hard_metrics, draw=True)\n",
    "#plt.show()\n",
    "hard_metrics.output"
   ]
  },
  {
   "cell_type": "code",
   "execution_count": 10,
   "metadata": {},
   "outputs": [
    {
     "data": {
      "text/plain": [
       "{('data_0',\n",
       "  'feat_extraction_0'): array([37.9, 15.6, 45.4, ..., 24.5, 13.4, 18.6]),\n",
       " ('data_0',\n",
       "  'feat_extraction_1'): array([37.9, 15.6, 45.4, ..., 24.5, 13.4, 18.6])}"
      ]
     },
     "execution_count": 10,
     "metadata": {},
     "output_type": "execute_result"
    }
   ],
   "source": [
    "y_train_dict"
   ]
  },
  {
   "cell_type": "code",
   "execution_count": 11,
   "metadata": {},
   "outputs": [
    {
     "data": {
      "text/plain": [
       "{(('data_0', 'feat_extraction_0', 'Ridge'),\n",
       "  ('data_0',\n",
       "   'feat_extraction_1')): array([24.35614372, 33.43657344, 17.78800371, ..., 24.58099843,\n",
       "        22.10505758, 27.37319864]),\n",
       " (('data_0', 'feat_extraction_0', 'DT'),\n",
       "  ('data_0',\n",
       "   'feat_extraction_1')): array([22. , 25.1, 19.8, ..., 24.7, 21.2, 22. ]),\n",
       " (('data_0', 'feat_extraction_1', 'Ridge'),\n",
       "  ('data_0',\n",
       "   'feat_extraction_1')): array([24.35614372, 33.43657344, 17.78800371, ..., 24.58099843,\n",
       "        22.10505758, 27.37319864]),\n",
       " (('data_0', 'feat_extraction_1', 'DT'),\n",
       "  ('data_0',\n",
       "   'feat_extraction_1')): array([22. , 25.1, 19.8, ..., 24.7, 21.2, 22. ]),\n",
       " '__prev__': <pcsp.module_set.ModuleSet at 0x7fc259a56c40>}"
      ]
     },
     "execution_count": 11,
     "metadata": {},
     "output_type": "execute_result"
    }
   ],
   "source": [
    "preds_all"
   ]
  },
  {
   "cell_type": "markdown",
   "metadata": {},
   "source": [
    "# tracking things w Pipeline (deprecated)"
   ]
  },
  {
   "cell_type": "code",
   "execution_count": null,
   "metadata": {},
   "outputs": [],
   "source": [
    "p = PCSPipeline()"
   ]
  },
  {
   "cell_type": "code",
   "execution_count": null,
   "metadata": {},
   "outputs": [],
   "source": [
    "p.steps = [subsampling_set, modeling_set, hard_metrics_set] # how to deal w/ hard metrics?"
   ]
  },
  {
   "cell_type": "code",
   "execution_count": null,
   "metadata": {},
   "outputs": [],
   "source": [
    "# broken\n",
    "# p.run(X_train, y_train)"
   ]
  },
  {
   "cell_type": "code",
   "execution_count": null,
   "metadata": {},
   "outputs": [],
   "source": [
    "p.steps[2].modules"
   ]
  },
  {
   "cell_type": "code",
   "execution_count": null,
   "metadata": {},
   "outputs": [],
   "source": [
    "# broken\n",
    "#df = p.generate_names()\n",
    "#df['hard_metrics'] = hard_metrics\n",
    "#df"
   ]
  },
  {
   "cell_type": "code",
   "execution_count": null,
   "metadata": {},
   "outputs": [],
   "source": []
  }
 ],
 "metadata": {
  "kernelspec": {
   "display_name": "Python 3",
   "language": "python",
   "name": "python3"
  },
  "language_info": {
   "codemirror_mode": {
    "name": "ipython",
    "version": 3
   },
   "file_extension": ".py",
   "mimetype": "text/x-python",
   "name": "python",
   "nbconvert_exporter": "python",
   "pygments_lexer": "ipython3",
   "version": "3.8.3"
  }
 },
 "nbformat": 4,
 "nbformat_minor": 4
}
