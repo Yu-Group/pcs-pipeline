{
 "cells": [
  {
   "cell_type": "code",
   "execution_count": 1,
   "metadata": {},
   "outputs": [],
   "source": [
    "'''Modified from sklearn documentation: https://scikit-learn.org/stable/modules/compose.html\n",
    "'''\n",
    "%load_ext autoreload\n",
    "%autoreload 2\n",
    "import numpy as np\n",
    "import matplotlib.pyplot as plt\n",
    "import pandas as pd\n",
    "\n",
    "from sklearn import datasets\n",
    "from sklearn.linear_model import LogisticRegression\n",
    "from sklearn.pipeline import Pipeline\n",
    "from sklearn.tree import DecisionTreeClassifier\n",
    "from sklearn.datasets import make_classification\n",
    "from pcsp import PCSPipeline, ModuleSet, Module # must install pcsp first (pip install pcsp)\n",
    "from pcsp.module_set import to_tuple, to_list\n",
    "from sklearn.metrics import accuracy_score, balanced_accuracy_score, roc_auc_score\n",
    "from sklearn.model_selection import train_test_split\n",
    "from sklearn.utils import resample\n",
    "from functools import partial\n",
    "import itertools"
   ]
  },
  {
   "cell_type": "code",
   "execution_count": 3,
   "metadata": {
    "scrolled": true
   },
   "outputs": [],
   "source": [
    "X, y = make_classification(n_samples=50, n_features=20)\n",
    "X_train, X_test, y_train, y_test = train_test_split(X, y, random_state=42)\n",
    "\n",
    "# subsampling\n",
    "subsampling_mods = [partial(resample,\n",
    "                            n_samples=int(X_train.shape[0]*0.8),\n",
    "                            random_state=i)\n",
    "                    for i in range(3)]\n",
    "subsampling_set = ModuleSet(name='subsampling', modules=subsampling_mods)\n",
    "\n",
    "# first set takes in some weird looking args -- might need to fix this\n",
    "# ([x1, x2, x3], [y1, y2, y3])\n",
    "X, y = subsampling_set([X_train], [y_train]) # X, y are each lists \n",
    "# X1, y1 = X[0], y[0] # access one run of things\n",
    "\n",
    "# modeling\n",
    "modeling_mods = [LogisticRegression(max_iter=1000, tol=0.1), DecisionTreeClassifier()]\n",
    "modeling_set = ModuleSet(name='modeling', modules=modeling_mods)\n",
    "models = modeling_set.fit(X, y)\n",
    "\n",
    "# metrics\n",
    "ys_aligned = modeling_set.repeat(y) # annoying we have to explicitly write this\n",
    "preds = modeling_set.predict(X)\n",
    "hard_metrics_mods = [accuracy_score, balanced_accuracy_score]\n",
    "hard_metrics_set = ModuleSet(name='hard_metrics', modules=hard_metrics_mods)\n",
    "hard_metrics = hard_metrics_set(ys_aligned, preds) # need to find a way to know to replicate y here\n",
    "\n",
    "preds_proba = modeling_set.predict_proba(X)\n",
    "soft_metrics_mods = [roc_auc_score]\n",
    "soft_metrics_set = ModuleSet(name='soft_metrics', modules=soft_metrics_mods)\n",
    "soft_metrics = soft_metrics_set(ys_aligned, preds_proba)"
   ]
  },
  {
   "cell_type": "code",
   "execution_count": 4,
   "metadata": {},
   "outputs": [
    {
     "name": "stdout",
     "output_type": "stream",
     "text": [
      "[0.9655172413793104, 0.95, 0.5862068965517241, 0.5928571428571429, 0.6896551724137931, 0.6740196078431373, 0.4827586206896552, 0.4631578947368421, 0.5517241379310345, 0.5547619047619048, 1.0, 1.0]\n"
     ]
    }
   ],
   "source": [
    "print(hard_metrics)"
   ]
  },
  {
   "cell_type": "markdown",
   "metadata": {},
   "source": [
    "# tracking things w Pipeline"
   ]
  },
  {
   "cell_type": "code",
   "execution_count": 18,
   "metadata": {},
   "outputs": [],
   "source": [
    "p = PCSPipeline()"
   ]
  },
  {
   "cell_type": "code",
   "execution_count": 19,
   "metadata": {},
   "outputs": [],
   "source": [
    "p.steps = [subsampling_set, modeling_set, soft_metrics_set] # how to deal w/ hard metrics?"
   ]
  },
  {
   "cell_type": "code",
   "execution_count": 23,
   "metadata": {},
   "outputs": [
    {
     "data": {
      "text/html": [
       "<div>\n",
       "<style scoped>\n",
       "    .dataframe tbody tr th:only-of-type {\n",
       "        vertical-align: middle;\n",
       "    }\n",
       "\n",
       "    .dataframe tbody tr th {\n",
       "        vertical-align: top;\n",
       "    }\n",
       "\n",
       "    .dataframe thead th {\n",
       "        text-align: right;\n",
       "    }\n",
       "</style>\n",
       "<table border=\"1\" class=\"dataframe\">\n",
       "  <thead>\n",
       "    <tr style=\"text-align: right;\">\n",
       "      <th></th>\n",
       "      <th>subsampling</th>\n",
       "      <th>modeling</th>\n",
       "      <th>soft_metrics</th>\n",
       "    </tr>\n",
       "  </thead>\n",
       "  <tbody>\n",
       "    <tr>\n",
       "      <th>0</th>\n",
       "      <td>0_functool</td>\n",
       "      <td>0_Logistic</td>\n",
       "      <td>0.950000</td>\n",
       "    </tr>\n",
       "    <tr>\n",
       "      <th>1</th>\n",
       "      <td>0_functool</td>\n",
       "      <td>1_Decision</td>\n",
       "      <td>0.592857</td>\n",
       "    </tr>\n",
       "    <tr>\n",
       "      <th>2</th>\n",
       "      <td>1_functool</td>\n",
       "      <td>0_Logistic</td>\n",
       "      <td>0.674020</td>\n",
       "    </tr>\n",
       "    <tr>\n",
       "      <th>3</th>\n",
       "      <td>1_functool</td>\n",
       "      <td>1_Decision</td>\n",
       "      <td>0.463158</td>\n",
       "    </tr>\n",
       "    <tr>\n",
       "      <th>4</th>\n",
       "      <td>2_functool</td>\n",
       "      <td>0_Logistic</td>\n",
       "      <td>0.554762</td>\n",
       "    </tr>\n",
       "    <tr>\n",
       "      <th>5</th>\n",
       "      <td>2_functool</td>\n",
       "      <td>1_Decision</td>\n",
       "      <td>1.000000</td>\n",
       "    </tr>\n",
       "  </tbody>\n",
       "</table>\n",
       "</div>"
      ],
      "text/plain": [
       "  subsampling    modeling  soft_metrics\n",
       "0  0_functool  0_Logistic      0.950000\n",
       "1  0_functool  1_Decision      0.592857\n",
       "2  1_functool  0_Logistic      0.674020\n",
       "3  1_functool  1_Decision      0.463158\n",
       "4  2_functool  0_Logistic      0.554762\n",
       "5  2_functool  1_Decision      1.000000"
      ]
     },
     "execution_count": 23,
     "metadata": {},
     "output_type": "execute_result"
    }
   ],
   "source": [
    "df = p.generate_names()\n",
    "df['soft_metrics'] = soft_metrics\n",
    "df"
   ]
  }
 ],
 "metadata": {
  "kernelspec": {
   "display_name": "Python 3",
   "language": "python",
   "name": "python3"
  },
  "language_info": {
   "codemirror_mode": {
    "name": "ipython",
    "version": 3
   },
   "file_extension": ".py",
   "mimetype": "text/x-python",
   "name": "python",
   "nbconvert_exporter": "python",
   "pygments_lexer": "ipython3",
   "version": "3.7.0"
  }
 },
 "nbformat": 4,
 "nbformat_minor": 2
}
